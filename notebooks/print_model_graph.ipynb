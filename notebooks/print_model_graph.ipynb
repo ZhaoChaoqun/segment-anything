{
 "cells": [
  {
   "cell_type": "code",
   "execution_count": null,
   "metadata": {},
   "outputs": [],
   "source": [
    "import onnx\n",
    "\n",
    "# 加载ONNX模型\n",
    "model_path = \"../demo/model/sam_onnx_quantized_example.onnx\"\n",
    "model = onnx.load(model_path)\n",
    "\n",
    "# 打印模型的结构信息\n",
    "print(onnx.helper.printable_graph(model.graph))\n"
   ]
  },
  {
   "cell_type": "code",
   "execution_count": null,
   "metadata": {},
   "outputs": [],
   "source": [
    "from segment_anything import sam_model_registry\n",
    "\n",
    "model_type = 'vit_h'\n",
    "checkpoint = '../sam_vit_h_4b8939.pth'\n",
    "sam = sam_model_registry[model_type](checkpoint=checkpoint)"
   ]
  }
 ],
 "metadata": {
  "kernelspec": {
   "display_name": "segment",
   "language": "python",
   "name": "python3"
  },
  "language_info": {
   "codemirror_mode": {
    "name": "ipython",
    "version": 3
   },
   "file_extension": ".py",
   "mimetype": "text/x-python",
   "name": "python",
   "nbconvert_exporter": "python",
   "pygments_lexer": "ipython3",
   "version": "3.11.9"
  }
 },
 "nbformat": 4,
 "nbformat_minor": 2
}
